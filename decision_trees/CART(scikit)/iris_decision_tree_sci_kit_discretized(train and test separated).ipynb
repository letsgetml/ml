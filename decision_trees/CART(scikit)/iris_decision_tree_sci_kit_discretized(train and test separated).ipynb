{
 "cells": [
  {
   "cell_type": "code",
   "execution_count": 1,
   "metadata": {},
   "outputs": [],
   "source": [
    "from sklearn import tree\n",
    "import pandas as pd\n",
    "import numpy as np"
   ]
  },
  {
   "cell_type": "code",
   "execution_count": 2,
   "metadata": {},
   "outputs": [],
   "source": [
    "data = pd.read_csv(\"iris.csv\")"
   ]
  },
  {
   "cell_type": "code",
   "execution_count": 3,
   "metadata": {},
   "outputs": [
    {
     "data": {
      "text/plain": [
       "Index(['sepal.length', 'sepal.width', 'petal.length', 'petal.width',\n",
       "       'variety'],\n",
       "      dtype='object')"
      ]
     },
     "execution_count": 3,
     "metadata": {},
     "output_type": "execute_result"
    }
   ],
   "source": [
    "data.columns"
   ]
  },
  {
   "cell_type": "code",
   "execution_count": 9,
   "metadata": {},
   "outputs": [
    {
     "data": {
      "text/plain": [
       "(array([32., 41., 42., 24., 11.]),\n",
       " array([4.3 , 5.02, 5.74, 6.46, 7.18, 7.9 ]),\n",
       " <a list of 5 Patch objects>)"
      ]
     },
     "execution_count": 9,
     "metadata": {},
     "output_type": "execute_result"
    },
    {
     "data": {
      "image/png": "[encoded data removed]",
      "text/plain": [
       "<Figure size 432x288 with 1 Axes>"
      ]
     },
     "metadata": {
      "needs_background": "light"
     },
     "output_type": "display_data"
    }
   ],
   "source": [
    "import matplotlib.pyplot as plt\n",
    "plt.hist(data.iloc[:, 0], 5)"
   ]
  },
  {
   "cell_type": "code",
   "execution_count": 10,
   "metadata": {},
   "outputs": [],
   "source": [
    "data[\"sepal.length\"] = np.digitize(data.iloc[:, 0], [4.3, 5.02, 5.74, 6.46, 7.18, 7.9])"
   ]
  },
  {
   "cell_type": "code",
   "execution_count": 24,
   "metadata": {},
   "outputs": [
    {
     "data": {
      "text/plain": [
       "(array([ 8., 39., 47., 41., 11.,  4.]),\n",
       " array([2. , 2.4, 2.8, 3.2, 3.6, 4. , 4.4]),\n",
       " <a list of 6 Patch objects>)"
      ]
     },
     "execution_count": 24,
     "metadata": {},
     "output_type": "execute_result"
    },
    {
     "data": {
      "image/png": "[encoded data removed]",
      "text/plain": [
       "<Figure size 432x288 with 1 Axes>"
      ]
     },
     "metadata": {
      "needs_background": "light"
     },
     "output_type": "display_data"
    }
   ],
   "source": [
    "import matplotlib.pyplot as plt\n",
    "plt.hist(data.iloc[:, 1], 6)"
   ]
  },
  {
   "cell_type": "code",
   "execution_count": 26,
   "metadata": {},
   "outputs": [],
   "source": [
    "data[\"sepal.width\"] = np.digitize(data.iloc[:, 1], [2, 2.4, 2.8, 3.2, 3.6, 4.4])"
   ]
  },
  {
   "cell_type": "code",
   "execution_count": 57,
   "metadata": {},
   "outputs": [
    {
     "data": {
      "text/plain": [
       "(array([37., 13.,  0.,  3.,  8., 26., 29., 18., 11.,  5.]),\n",
       " array([1.  , 1.59, 2.18, 2.77, 3.36, 3.95, 4.54, 5.13, 5.72, 6.31, 6.9 ]),\n",
       " <a list of 10 Patch objects>)"
      ]
     },
     "execution_count": 57,
     "metadata": {},
     "output_type": "execute_result"
    },
    {
     "data": {
      "image/png": "[encoded data removed]",
      "text/plain": [
       "<Figure size 432x288 with 1 Axes>"
      ]
     },
     "metadata": {
      "needs_background": "light"
     },
     "output_type": "display_data"
    }
   ],
   "source": [
    "import matplotlib.pyplot as plt\n",
    "plt.hist(data.iloc[:, 2], 10)"
   ]
  },
  {
   "cell_type": "code",
   "execution_count": 58,
   "metadata": {},
   "outputs": [],
   "source": [
    "data[\"petal.length\"] = np.digitize(data.iloc[:, 2], [1, 1.59, 3.95, 4.54, 5.13, 5.72, 6.9 ])"
   ]
  },
  {
   "cell_type": "code",
   "execution_count": 63,
   "metadata": {},
   "outputs": [
    {
     "data": {
      "text/plain": [
       "(array([41.,  9.,  0., 15., 33., 18., 17., 17.]),\n",
       " array([0.1, 0.4, 0.7, 1. , 1.3, 1.6, 1.9, 2.2, 2.5]),\n",
       " <a list of 8 Patch objects>)"
      ]
     },
     "execution_count": 63,
     "metadata": {},
     "output_type": "execute_result"
    },
    {
     "data": {
      "image/png": "[encoded data removed]",
      "text/plain": [
       "<Figure size 432x288 with 1 Axes>"
      ]
     },
     "metadata": {
      "needs_background": "light"
     },
     "output_type": "display_data"
    }
   ],
   "source": [
    "import matplotlib.pyplot as plt\n",
    "plt.hist(data.iloc[:, 3], 8)"
   ]
  },
  {
   "cell_type": "code",
   "execution_count": 64,
   "metadata": {},
   "outputs": [],
   "source": [
    "data['petal.width'] = np.digitize(data.iloc[:, 3], [0.1, 0.4, 1.3, 1.6, 1.9, 2.2, 2.5])"
   ]
  },
  {
   "cell_type": "code",
   "execution_count": 65,
   "metadata": {},
   "outputs": [
    {
     "data": {
      "text/html": [
       "<div>\n",
       "<style scoped>\n",
       "    .dataframe tbody tr th:only-of-type {\n",
       "        vertical-align: middle;\n",
       "    }\n",
       "\n",
       "    .dataframe tbody tr th {\n",
       "        vertical-align: top;\n",
       "    }\n",
       "\n",
       "    .dataframe thead th {\n",
       "        text-align: right;\n",
       "    }\n",
       "</style>\n",
       "<table border=\"1\" class=\"dataframe\">\n",
       "  <thead>\n",
       "    <tr style=\"text-align: right;\">\n",
       "      <th></th>\n",
       "      <th>sepal.length</th>\n",
       "      <th>sepal.width</th>\n",
       "      <th>petal.length</th>\n",
       "      <th>petal.width</th>\n",
       "      <th>variety</th>\n",
       "    </tr>\n",
       "  </thead>\n",
       "  <tbody>\n",
       "    <tr>\n",
       "      <th>145</th>\n",
       "      <td>4</td>\n",
       "      <td>3</td>\n",
       "      <td>5</td>\n",
       "      <td>6</td>\n",
       "      <td>Virginica</td>\n",
       "    </tr>\n",
       "    <tr>\n",
       "      <th>146</th>\n",
       "      <td>3</td>\n",
       "      <td>2</td>\n",
       "      <td>4</td>\n",
       "      <td>5</td>\n",
       "      <td>Virginica</td>\n",
       "    </tr>\n",
       "    <tr>\n",
       "      <th>147</th>\n",
       "      <td>4</td>\n",
       "      <td>3</td>\n",
       "      <td>5</td>\n",
       "      <td>5</td>\n",
       "      <td>Virginica</td>\n",
       "    </tr>\n",
       "    <tr>\n",
       "      <th>148</th>\n",
       "      <td>3</td>\n",
       "      <td>4</td>\n",
       "      <td>5</td>\n",
       "      <td>6</td>\n",
       "      <td>Virginica</td>\n",
       "    </tr>\n",
       "    <tr>\n",
       "      <th>149</th>\n",
       "      <td>3</td>\n",
       "      <td>3</td>\n",
       "      <td>4</td>\n",
       "      <td>4</td>\n",
       "      <td>Virginica</td>\n",
       "    </tr>\n",
       "  </tbody>\n",
       "</table>\n",
       "</div>"
      ],
      "text/plain": [
       "     sepal.length  sepal.width  petal.length  petal.width    variety\n",
       "145             4            3             5            6  Virginica\n",
       "146             3            2             4            5  Virginica\n",
       "147             4            3             5            5  Virginica\n",
       "148             3            4             5            6  Virginica\n",
       "149             3            3             4            4  Virginica"
      ]
     },
     "execution_count": 65,
     "metadata": {},
     "output_type": "execute_result"
    }
   ],
   "source": [
    "data.tail()"
   ]
  },
  {
   "cell_type": "code",
   "execution_count": 66,
   "metadata": {},
   "outputs": [],
   "source": [
    "#X - descriptive features, Y - target feature\n",
    "X = np.array(data.iloc[:,:-1])\n",
    "Y = np.array(data.iloc[:,-1])\n",
    "descriptive_features = [x+\" (cm)\" for x in list(data.columns[:-1])]\n",
    "target_names = list(set(data.iloc[:,-1]))"
   ]
  },
  {
   "cell_type": "code",
   "execution_count": 67,
   "metadata": {},
   "outputs": [],
   "source": [
    "from sklearn.model_selection import train_test_split"
   ]
  },
  {
   "cell_type": "code",
   "execution_count": 68,
   "metadata": {},
   "outputs": [],
   "source": [
    "X_train, X_test, Y_train, Y_test = train_test_split( X, Y, test_size=0.3, random_state=42)"
   ]
  },
  {
   "cell_type": "code",
   "execution_count": 69,
   "metadata": {},
   "outputs": [],
   "source": [
    "clf = tree.DecisionTreeClassifier()\n",
    "clf = clf.fit(X_train, Y_train)\n"
   ]
  },
  {
   "cell_type": "code",
   "execution_count": 70,
   "metadata": {},
   "outputs": [],
   "source": [
    "tree.export_graphviz(clf, out_file=\"iris_tree_discretized.dot\",\n",
    "                    feature_names = descriptive_features,\n",
    "                    class_names = target_names,\n",
    "                    filled=True, rounded=True,  \n",
    "                    special_characters=True)"
   ]
  },
  {
   "cell_type": "code",
   "execution_count": 76,
   "metadata": {},
   "outputs": [
    {
     "ename": "SyntaxError",
     "evalue": "invalid syntax (<ipython-input-76-0d80c2638064>, line 1)",
     "output_type": "error",
     "traceback": [
      "\u001b[1;36m  File \u001b[1;32m\"<ipython-input-76-0d80c2638064>\"\u001b[1;36m, line \u001b[1;32m1\u001b[0m\n\u001b[1;33m    digraph Tree {\u001b[0m\n\u001b[1;37m               ^\u001b[0m\n\u001b[1;31mSyntaxError\u001b[0m\u001b[1;31m:\u001b[0m invalid syntax\n"
     ]
    }
   ],
   "source": [
    "digraph Tree {\n",
    "node [shape=box, style=\"filled, rounded\", color=\"black\", fontname=helvetica] ;\n",
    "edge [fontname=helvetica] ;\n",
    "0 [label=<petal.width (cm) &le; 3.5<br/>gini = 0.664<br/>samples = 105<br/>value = [31, 37, 37]<br/>class = Setosa>, fillcolor=\"#39e58100\"] ;\n",
    "1 [label=<petal.width (cm) &le; 1.5<br/>gini = 0.54<br/>samples = 68<br/>value = [31, 34, 3]<br/>class = Setosa>, fillcolor=\"#39e58115\"] ;\n",
    "0 -> 1 [labeldistance=2.5, labelangle=45, headlabel=\"True\"] ;\n",
    "2 [label=<gini = 0.0<br/>samples = 26<br/>value = [26, 0, 0]<br/>class = Versicolor>, fillcolor=\"#e58139ff\"] ;\n",
    "1 -> 2 ;\n",
    "3 [label=<sepal.width (cm) &le; 3.5<br/>gini = 0.325<br/>samples = 42<br/>value = [5, 34, 3]<br/>class = Setosa>, fillcolor=\"#39e581c8\"] ;\n",
    "1 -> 3 ;\n",
    "4 [label=<petal.length (cm) &le; 4.5<br/>gini = 0.153<br/>samples = 36<br/>value = [0, 33, 3]<br/>class = Setosa>, fillcolor=\"#39e581e8\"] ;\n",
    "3 -> 4 ;\n",
    "5 [label=<petal.length (cm) &le; 3.5<br/>gini = 0.108<br/>samples = 35<br/>value = [0, 33, 2]<br/>class = Setosa>, fillcolor=\"#39e581f0\"] ;\n",
    "4 -> 5 ;\n",
    "6 [label=<gini = 0.0<br/>samples = 27<br/>value = [0, 27, 0]<br/>class = Setosa>, fillcolor=\"#39e581ff\"] ;\n",
    "5 -> 6 ;\n",
    "7 [label=<sepal.width (cm) &le; 1.5<br/>gini = 0.375<br/>samples = 8<br/>value = [0, 6, 2]<br/>class = Setosa>, fillcolor=\"#39e581aa\"] ;\n",
    "5 -> 7 ;\n",
    "8 [label=<gini = 0.0<br/>samples = 1<br/>value = [0, 0, 1]<br/>class = Virginica>, fillcolor=\"#8139e5ff\"] ;\n",
    "7 -> 8 ;\n",
    "9 [label=<sepal.length (cm) &le; 3.5<br/>gini = 0.245<br/>samples = 7<br/>value = [0, 6, 1]<br/>class = Setosa>, fillcolor=\"#39e581d4\"] ;\n",
    "7 -> 9 ;\n",
    "10 [label=<sepal.width (cm) &le; 2.5<br/>gini = 0.375<br/>samples = 4<br/>value = [0, 3, 1]<br/>class = Setosa>, fillcolor=\"#39e581aa\"] ;\n",
    "9 -> 10 ;\n",
    "11 [label=<gini = 0.0<br/>samples = 1<br/>value = [0, 1, 0]<br/>class = Setosa>, fillcolor=\"#39e581ff\"] ;\n",
    "10 -> 11 ;\n",
    "12 [label=<gini = 0.444<br/>samples = 3<br/>value = [0, 2, 1]<br/>class = Setosa>, fillcolor=\"#39e5817f\"] ;\n",
    "10 -> 12 ;\n",
    "13 [label=<gini = 0.0<br/>samples = 3<br/>value = [0, 3, 0]<br/>class = Setosa>, fillcolor=\"#39e581ff\"] ;\n",
    "9 -> 13 ;\n",
    "14 [label=<gini = 0.0<br/>samples = 1<br/>value = [0, 0, 1]<br/>class = Virginica>, fillcolor=\"#8139e5ff\"] ;\n",
    "4 -> 14 ;\n",
    "15 [label=<petal.width (cm) &le; 2.5<br/>gini = 0.278<br/>samples = 6<br/>value = [5, 1, 0]<br/>class = Versicolor>, fillcolor=\"#e58139cc\"] ;\n",
    "3 -> 15 ;\n",
    "16 [label=<gini = 0.0<br/>samples = 5<br/>value = [5, 0, 0]<br/>class = Versicolor>, fillcolor=\"#e58139ff\"] ;\n",
    "15 -> 16 ;\n",
    "17 [label=<gini = 0.0<br/>samples = 1<br/>value = [0, 1, 0]<br/>class = Setosa>, fillcolor=\"#39e581ff\"] ;\n",
    "15 -> 17 ;\n",
    "18 [label=<petal.length (cm) &le; 4.5<br/>gini = 0.149<br/>samples = 37<br/>value = [0, 3, 34]<br/>class = Virginica>, fillcolor=\"#8139e5e9\"] ;\n",
    "0 -> 18 [labeldistance=2.5, labelangle=-45, headlabel=\"False\"] ;\n",
    "19 [label=<sepal.width (cm) &le; 3.5<br/>gini = 0.375<br/>samples = 12<br/>value = [0, 3, 9]<br/>class = Virginica>, fillcolor=\"#8139e5aa\"] ;\n",
    "18 -> 19 ;\n",
    "20 [label=<sepal.length (cm) &le; 3.5<br/>gini = 0.298<br/>samples = 11<br/>value = [0, 2, 9]<br/>class = Virginica>, fillcolor=\"#8139e5c6\"] ;\n",
    "19 -> 20 ;\n",
    "21 [label=<sepal.width (cm) &le; 2.5<br/>gini = 0.18<br/>samples = 10<br/>value = [0, 1, 9]<br/>class = Virginica>, fillcolor=\"#8139e5e3\"] ;\n",
    "20 -> 21 ;\n",
    "22 [label=<petal.width (cm) &le; 4.5<br/>gini = 0.32<br/>samples = 5<br/>value = [0, 1, 4]<br/>class = Virginica>, fillcolor=\"#8139e5bf\"] ;\n",
    "21 -> 22 ;\n",
    "23 [label=<sepal.length (cm) &le; 2.0<br/>gini = 0.444<br/>samples = 3<br/>value = [0, 1, 2]<br/>class = Virginica>, fillcolor=\"#8139e57f\"] ;\n",
    "22 -> 23 ;\n",
    "24 [label=<gini = 0.0<br/>samples = 1<br/>value = [0, 0, 1]<br/>class = Virginica>, fillcolor=\"#8139e5ff\"] ;\n",
    "23 -> 24 ;\n",
    "25 [label=<gini = 0.5<br/>samples = 2<br/>value = [0, 1, 1]<br/>class = Setosa>, fillcolor=\"#39e58100\"] ;\n",
    "23 -> 25 ;\n",
    "26 [label=<gini = 0.0<br/>samples = 2<br/>value = [0, 0, 2]<br/>class = Virginica>, fillcolor=\"#8139e5ff\"] ;\n",
    "22 -> 26 ;\n",
    "27 [label=<gini = 0.0<br/>samples = 5<br/>value = [0, 0, 5]<br/>class = Virginica>, fillcolor=\"#8139e5ff\"] ;\n",
    "21 -> 27 ;\n",
    "28 [label=<gini = 0.0<br/>samples = 1<br/>value = [0, 1, 0]<br/>class = Setosa>, fillcolor=\"#39e581ff\"] ;\n",
    "20 -> 28 ;\n",
    "29 [label=<gini = 0.0<br/>samples = 1<br/>value = [0, 1, 0]<br/>class = Setosa>, fillcolor=\"#39e581ff\"] ;\n",
    "19 -> 29 ;\n",
    "30 [label=<gini = 0.0<br/>samples = 25<br/>value = [0, 0, 25]<br/>class = Virginica>, fillcolor=\"#8139e5ff\"] ;\n",
    "18 -> 30 ;\n",
    "}"
   ]
  },
  {
   "cell_type": "code",
   "execution_count": 71,
   "metadata": {},
   "outputs": [],
   "source": [
    "test_dataset = pd.DataFrame(columns = data.columns)\n",
    "for column_idx in range(len(X_test[0])):\n",
    "    test_dataset.iloc[:,column_idx] = X_test[:,column_idx]\n",
    "test_dataset.iloc[:, -1] = Y_test"
   ]
  },
  {
   "cell_type": "code",
   "execution_count": 74,
   "metadata": {},
   "outputs": [],
   "source": [
    "good = 0\n",
    "for index, row in test_dataset.iterrows():\n",
    "    if row[\"petal.width\"] <= 3.5:\n",
    "        if row[\"petal.width\"] <= 1.5:\n",
    "            if row[-1] == \"Versicolor\":\n",
    "                good += 1\n",
    "        else:\n",
    "            if row[-1] == \" Setosa\":\n",
    "                good += 1\n",
    "    else:\n",
    "        if row[\"petal.length\"] <= 4.5:\n",
    "            if row[\"sepal.width\"] <= 3.5:\n",
    "                if row[\"sepal.length\"] <= 3.5:\n",
    "                    if row[-1] == \"Virginica\":\n",
    "                        good += 1\n",
    "                else:\n",
    "                    if row[-1] == \"Setosa\":\n",
    "                        good += 1\n",
    "            else:\n",
    "                if row[-1] == \"Setosa\":\n",
    "                    good += 1\n",
    "        else:\n",
    "            if row[-1] == \"Virginica\":\n",
    "                good += 1"
   ]
  },
  {
   "cell_type": "code",
   "execution_count": 75,
   "metadata": {},
   "outputs": [
    {
     "data": {
      "text/plain": [
       "11"
      ]
     },
     "execution_count": 75,
     "metadata": {},
     "output_type": "execute_result"
    }
   ],
   "source": [
    "good"
   ]
  },
  {
   "cell_type": "code",
   "execution_count": 77,
   "metadata": {},
   "outputs": [
    {
     "data": {
      "text/plain": [
       "(45, 5)"
      ]
     },
     "execution_count": 77,
     "metadata": {},
     "output_type": "execute_result"
    }
   ],
   "source": [
    "test_dataset.shape"
   ]
  },
  {
   "cell_type": "code",
   "execution_count": 78,
   "metadata": {},
   "outputs": [
    {
     "data": {
      "text/plain": [
       "0.24444444444444444"
      ]
     },
     "execution_count": 78,
     "metadata": {},
     "output_type": "execute_result"
    }
   ],
   "source": [
    "11/45"
   ]
  },
  {
   "cell_type": "code",
   "execution_count": null,
   "metadata": {},
   "outputs": [],
   "source": []
  }
 ],
 "metadata": {
  "kernelspec": {
   "display_name": "Python 3",
   "language": "python",
   "name": "python3"
  },
  "language_info": {
   "codemirror_mode": {
    "name": "ipython",
    "version": 3
   },
   "file_extension": ".py",
   "mimetype": "text/x-python",
   "name": "python",
   "nbconvert_exporter": "python",
   "pygments_lexer": "ipython3",
   "version": "3.7.0"
  }
 },
 "nbformat": 4,
 "nbformat_minor": 2
}

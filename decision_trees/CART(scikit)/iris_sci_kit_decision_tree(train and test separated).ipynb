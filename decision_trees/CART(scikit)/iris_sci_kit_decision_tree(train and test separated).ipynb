{
 "cells": [
  {
   "cell_type": "code",
   "execution_count": 43,
   "metadata": {},
   "outputs": [],
   "source": [
    "from sklearn import tree\n",
    "import pandas as pd\n",
    "import numpy as np\n"
   ]
  },
  {
   "cell_type": "code",
   "execution_count": 2,
   "metadata": {},
   "outputs": [],
   "source": [
    "data = pd.read_csv(\"iris.csv\")"
   ]
  },
  {
   "cell_type": "code",
   "execution_count": 44,
   "metadata": {},
   "outputs": [
    {
     "data": {
      "text/plain": [
       "Index(['sepal.length', 'sepal.width', 'petal.length', 'petal.width',\n",
       "       'variety'],\n",
       "      dtype='object')"
      ]
     },
     "execution_count": 44,
     "metadata": {},
     "output_type": "execute_result"
    }
   ],
   "source": [
    "data.columns"
   ]
  },
  {
   "cell_type": "code",
   "execution_count": 45,
   "metadata": {},
   "outputs": [],
   "source": [
    "#X - descriptive features, Y - target feature\n",
    "X = np.array(data.iloc[:,:-1])\n",
    "Y = np.array(data.iloc[:,-1])\n",
    "descriptive_features = [x+\" (cm)\" for x in list(data.columns[:-1])]\n",
    "target_names = list(set(data.iloc[:,-1]))"
   ]
  },
  {
   "cell_type": "code",
   "execution_count": 46,
   "metadata": {},
   "outputs": [],
   "source": [
    "from sklearn.model_selection import train_test_split"
   ]
  },
  {
   "cell_type": "code",
   "execution_count": 6,
   "metadata": {},
   "outputs": [],
   "source": [
    "X_train, X_test, Y_train, Y_test = train_test_split( X, Y, test_size=0.3, random_state=42)"
   ]
  },
  {
   "cell_type": "code",
   "execution_count": 47,
   "metadata": {},
   "outputs": [
    {
     "data": {
      "text/plain": [
       "(105, 4)"
      ]
     },
     "execution_count": 47,
     "metadata": {},
     "output_type": "execute_result"
    }
   ],
   "source": [
    "X_train.shape"
   ]
  },
  {
   "cell_type": "code",
   "execution_count": 48,
   "metadata": {},
   "outputs": [
    {
     "data": {
      "text/plain": [
       "(45, 4)"
      ]
     },
     "execution_count": 48,
     "metadata": {},
     "output_type": "execute_result"
    }
   ],
   "source": [
    " X_test.shape"
   ]
  },
  {
   "cell_type": "code",
   "execution_count": 49,
   "metadata": {},
   "outputs": [
    {
     "data": {
      "text/plain": [
       "(105,)"
      ]
     },
     "execution_count": 49,
     "metadata": {},
     "output_type": "execute_result"
    }
   ],
   "source": [
    "Y_train.shape"
   ]
  },
  {
   "cell_type": "code",
   "execution_count": 50,
   "metadata": {},
   "outputs": [
    {
     "data": {
      "text/plain": [
       "(45,)"
      ]
     },
     "execution_count": 50,
     "metadata": {},
     "output_type": "execute_result"
    }
   ],
   "source": [
    "Y_test.shape"
   ]
  },
  {
   "cell_type": "code",
   "execution_count": 51,
   "metadata": {},
   "outputs": [],
   "source": [
    "clf = tree.DecisionTreeClassifier()\n",
    "clf = clf.fit(X_train, Y_train)\n"
   ]
  },
  {
   "cell_type": "code",
   "execution_count": 52,
   "metadata": {},
   "outputs": [],
   "source": [
    "tree.export_graphviz(clf, out_file=\"iris_tree.dot\",\n",
    "                    feature_names = descriptive_features,\n",
    "                    class_names = target_names,\n",
    "                    filled=True, rounded=True,  \n",
    "                    special_characters=True)"
   ]
  },
  {
   "cell_type": "code",
   "execution_count": 59,
   "metadata": {},
   "outputs": [
    {
     "ename": "SyntaxError",
     "evalue": "invalid syntax (<ipython-input-59-c38bd0668e68>, line 1)",
     "output_type": "error",
     "traceback": [
      "\u001b[1;36m  File \u001b[1;32m\"<ipython-input-59-c38bd0668e68>\"\u001b[1;36m, line \u001b[1;32m1\u001b[0m\n\u001b[1;33m    digraph Tree {\u001b[0m\n\u001b[1;37m               ^\u001b[0m\n\u001b[1;31mSyntaxError\u001b[0m\u001b[1;31m:\u001b[0m invalid syntax\n"
     ]
    }
   ],
   "source": [
    "digraph Tree {\n",
    "node [shape=box, style=\"filled, rounded\", color=\"black\", fontname=helvetica] ;\n",
    "edge [fontname=helvetica] ;\n",
    "0 [label=<petal.length (cm) &le; 2.45<br/>gini = 0.664<br/>samples = 105<br/>value = [31, 37, 37]<br/>class = Versicolor>, fillcolor=\"#39e58100\"] ;\n",
    "1 [label=<gini = 0.0<br/>samples = 31<br/>value = [31, 0, 0]<br/>class = Virginica>, fillcolor=\"#e58139ff\"] ;\n",
    "0 -> 1 [labeldistance=2.5, labelangle=45, headlabel=\"True\"] ;\n",
    "2 [label=<petal.length (cm) &le; 4.75<br/>gini = 0.5<br/>samples = 74<br/>value = [0, 37, 37]<br/>class = Versicolor>, fillcolor=\"#39e58100\"] ;\n",
    "0 -> 2 [labeldistance=2.5, labelangle=-45, headlabel=\"False\"] ;\n",
    "3 [label=<petal.width (cm) &le; 1.6<br/>gini = 0.059<br/>samples = 33<br/>value = [0, 32, 1]<br/>class = Versicolor>, fillcolor=\"#39e581f7\"] ;\n",
    "2 -> 3 ;\n",
    "4 [label=<gini = 0.0<br/>samples = 32<br/>value = [0, 32, 0]<br/>class = Versicolor>, fillcolor=\"#39e581ff\"] ;\n",
    "3 -> 4 ;\n",
    "5 [label=<gini = 0.0<br/>samples = 1<br/>value = [0, 0, 1]<br/>class = Setosa>, fillcolor=\"#8139e5ff\"] ;\n",
    "3 -> 5 ;\n",
    "6 [label=<petal.width (cm) &le; 1.75<br/>gini = 0.214<br/>samples = 41<br/>value = [0, 5, 36]<br/>class = Setosa>, fillcolor=\"#8139e5dc\"] ;\n",
    "2 -> 6 ;\n",
    "7 [label=<petal.length (cm) &le; 4.95<br/>gini = 0.5<br/>samples = 8<br/>value = [0, 4, 4]<br/>class = Versicolor>, fillcolor=\"#39e58100\"] ;\n",
    "6 -> 7 ;\n",
    "8 [label=<gini = 0.0<br/>samples = 2<br/>value = [0, 2, 0]<br/>class = Versicolor>, fillcolor=\"#39e581ff\"] ;\n",
    "7 -> 8 ;\n",
    "9 [label=<petal.width (cm) &le; 1.55<br/>gini = 0.444<br/>samples = 6<br/>value = [0, 2, 4]<br/>class = Setosa>, fillcolor=\"#8139e57f\"] ;\n",
    "7 -> 9 ;\n",
    "10 [label=<gini = 0.0<br/>samples = 3<br/>value = [0, 0, 3]<br/>class = Setosa>, fillcolor=\"#8139e5ff\"] ;\n",
    "9 -> 10 ;\n",
    "11 [label=<sepal.length (cm) &le; 6.95<br/>gini = 0.444<br/>samples = 3<br/>value = [0, 2, 1]<br/>class = Versicolor>, fillcolor=\"#39e5817f\"] ;\n",
    "9 -> 11 ;\n",
    "12 [label=<gini = 0.0<br/>samples = 2<br/>value = [0, 2, 0]<br/>class = Versicolor>, fillcolor=\"#39e581ff\"] ;\n",
    "11 -> 12 ;\n",
    "13 [label=<gini = 0.0<br/>samples = 1<br/>value = [0, 0, 1]<br/>class = Setosa>, fillcolor=\"#8139e5ff\"] ;\n",
    "11 -> 13 ;\n",
    "14 [label=<petal.length (cm) &le; 4.85<br/>gini = 0.059<br/>samples = 33<br/>value = [0, 1, 32]<br/>class = Setosa>, fillcolor=\"#8139e5f7\"] ;\n",
    "6 -> 14 ;\n",
    "15 [label=<sepal.width (cm) &le; 3.1<br/>gini = 0.444<br/>samples = 3<br/>value = [0, 1, 2]<br/>class = Setosa>, fillcolor=\"#8139e57f\"] ;\n",
    "14 -> 15 ;\n",
    "16 [label=<gini = 0.0<br/>samples = 2<br/>value = [0, 0, 2]<br/>class = Setosa>, fillcolor=\"#8139e5ff\"] ;\n",
    "15 -> 16 ;\n",
    "17 [label=<gini = 0.0<br/>samples = 1<br/>value = [0, 1, 0]<br/>class = Versicolor>, fillcolor=\"#39e581ff\"] ;\n",
    "15 -> 17 ;\n",
    "18 [label=<gini = 0.0<br/>samples = 30<br/>value = [0, 0, 30]<br/>class = Setosa>, fillcolor=\"#8139e5ff\"] ;\n",
    "14 -> 18 ;\n",
    "}"
   ]
  },
  {
   "cell_type": "code",
   "execution_count": 53,
   "metadata": {},
   "outputs": [],
   "source": [
    "test_dataset = pd.DataFrame(columns = data.columns)\n",
    "for column_idx in range(len(X_test[0])):\n",
    "    test_dataset.iloc[:,column_idx] = X_test[:,column_idx]\n",
    "test_dataset.iloc[:, -1] = Y_test\n",
    "for index, row in test_dataset.iterrows():\n",
    "    if row[\"petal.length\"] <= 2.45:\n",
    "        if row[\"petal.length\"] <= 4.75:\n",
    "            if row[\"petal.width\"] <= 1.6:\n",
    "                if row[-1] == \"Versicolor\":\n",
    "                    good += 1\n",
    "            else:\n",
    "                if row[-1] == \"Setosa\":\n",
    "                    good += 1\n",
    "        else:\n",
    "            if row[\"petal.width\"] <= 1.75:\n",
    "                if row[\"petal.length\"] <= 4.95:\n",
    "                    if row[-1] == \"Versicolor\":\n",
    "                        good += 1\n",
    "                else:\n",
    "                    if row[\"petal.width\"] <= 1.55:\n",
    "                        if row[-1] == \"Setosa\":\n",
    "                            good += 1\n",
    "                    else:\n",
    "                        if row[\"sepal.length\"] <=  6.95:\n",
    "                            if row[-1] == \"Versicolor\":\n",
    "                                good += 1\n",
    "                        else:\n",
    "                            if row[-1] == \"Setosa\":\n",
    "                                good += 1\n",
    "            else:\n",
    "                if row[\"petal.length\"] <= 4.85:\n",
    "                    if row[\"sepal.width\"] <= 3.1:\n",
    "                        if row[-1] == \"Setosa\":\n",
    "                            good += 1\n",
    "                    else:\n",
    "                        if row[-1] == \"Versicolor\":\n",
    "                            good += 1\n",
    "                else:\n",
    "                    if row[-1] == \"Setosa\":\n",
    "                         good += 1        \n",
    "    else:\n",
    "        if row[-1] == \"Virginica\":\n",
    "            good += 1\n"
   ]
  },
  {
   "cell_type": "code",
   "execution_count": 54,
   "metadata": {},
   "outputs": [
    {
     "data": {
      "text/plain": [
       "26"
      ]
     },
     "execution_count": 54,
     "metadata": {},
     "output_type": "execute_result"
    }
   ],
   "source": [
    "good"
   ]
  },
  {
   "cell_type": "code",
   "execution_count": 55,
   "metadata": {},
   "outputs": [
    {
     "data": {
      "text/plain": [
       "(45, 5)"
      ]
     },
     "execution_count": 55,
     "metadata": {},
     "output_type": "execute_result"
    }
   ],
   "source": [
    "test_dataset.shape"
   ]
  },
  {
   "cell_type": "code",
   "execution_count": 58,
   "metadata": {},
   "outputs": [],
   "source": [
    "Percentage_of_Error = 45- 26/45"
   ]
  },
  {
   "cell_type": "code",
   "execution_count": null,
   "metadata": {},
   "outputs": [],
   "source": []
  }
 ],
 "metadata": {
  "kernelspec": {
   "display_name": "Python 3",
   "language": "python",
   "name": "python3"
  },
  "language_info": {
   "codemirror_mode": {
    "name": "ipython",
    "version": 3
   },
   "file_extension": ".py",
   "mimetype": "text/x-python",
   "name": "python",
   "nbconvert_exporter": "python",
   "pygments_lexer": "ipython3",
   "version": "3.7.0"
  }
 },
 "nbformat": 4,
 "nbformat_minor": 2
}

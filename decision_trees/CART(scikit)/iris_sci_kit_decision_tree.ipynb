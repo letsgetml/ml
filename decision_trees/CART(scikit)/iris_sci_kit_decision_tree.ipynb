{
 "cells": [
  {
   "cell_type": "code",
   "execution_count": 34,
   "metadata": {},
   "outputs": [],
   "source": [
    "from sklearn import tree\n",
    "import pandas as pd\n",
    "import numpy as np"
   ]
  },
  {
   "cell_type": "code",
   "execution_count": 35,
   "metadata": {},
   "outputs": [],
   "source": [
    "data = pd.read_csv(\"iris.csv\")"
   ]
  },
  {
   "cell_type": "code",
   "execution_count": 36,
   "metadata": {},
   "outputs": [
    {
     "data": {
      "text/plain": [
       "Index(['sepal.length', 'sepal.width', 'petal.length', 'petal.width',\n",
       "       'variety'],\n",
       "      dtype='object')"
      ]
     },
     "execution_count": 36,
     "metadata": {},
     "output_type": "execute_result"
    }
   ],
   "source": [
    "data.columns"
   ]
  },
  {
   "cell_type": "code",
   "execution_count": 37,
   "metadata": {},
   "outputs": [],
   "source": [
    "X = np.array(data.iloc[:,:-1])\n",
    "Y = np.array(data.iloc[:,-1])\n",
    "descriptive_features = [x+\" (cm)\" for x in list(data.columns[:-1])]\n",
    "target_names = list(set(data.iloc[:,-1]))\n",
    "clf = tree.DecisionTreeClassifier()\n",
    "clf = clf.fit(X, Y)"
   ]
  },
  {
   "cell_type": "code",
   "execution_count": 38,
   "metadata": {},
   "outputs": [],
   "source": [
    "tree.export_graphviz(clf, out_file=\"iris_tree.dot\",\n",
    "                    feature_names = descriptive_features,\n",
    "                    class_names = target_names,\n",
    "                    filled=True, rounded=True,  \n",
    "                    special_characters=True)"
   ]
  },
  {
   "cell_type": "markdown",
   "metadata": {},
   "source": [
    "IF petal.width (cm) ≤ 0.8:\n",
    "    THEN class : Setosa\n",
    "ELSE:\n",
    "    IF petal.width (cm) ≤ 1.75:\n",
    "        IF petal.length (cm) ≤ 4.95:\n",
    "            IF petal.width (cm) ≤ 1.65:\n",
    "                THEN class = Versicolor\n",
    "            ELSE:\n",
    "                THEN class = Virginica\n",
    "        ELSE:\n",
    "            IF petal.width (cm) ≤ 1.55:\n",
    "                THEN class = Virginica\n",
    "            ELSE:\n",
    "                IF sepal.length (cm) ≤ 6.95\n",
    "                    THEN class = Versicolor\n",
    "                ELSE:\n",
    "                    THEN class = Virginica\n",
    "    ELSE:\n",
    "        IF petal.length (cm) ≤ 4.85:\n",
    "            IF sepal.length (cm) ≤ 5.95:\n",
    "                THEN class = Versicolor\n",
    "            ELSE:\n",
    "                THEN class = Virginica\n",
    "        ELSE:\n",
    "            THEN class = Virginica"
   ]
  },
  {
   "cell_type": "code",
   "execution_count": 46,
   "metadata": {},
   "outputs": [],
   "source": [
    "good = 0\n",
    "for index, row in data.iterrows():\n",
    "    if row[\"petal.width\"] <= 0.8:\n",
    "        if row[-1] == \"Setosa\":\n",
    "            good += 1\n",
    "    else:\n",
    "        if row[\"petal.width\"] <= 1.75:\n",
    "            if row[\"petal.length\"] <= 4.95:\n",
    "                if row[\"petal.width\"] <= 1.65:\n",
    "                    if row[-1] == \"Versicolor\":\n",
    "                        good += 1\n",
    "                else:\n",
    "                    if row[-1] == \"Virginica\":\n",
    "                        good += 1\n",
    "            else:\n",
    "                if row[\"petal.width\"] <= 1.55:\n",
    "                    if row[-1] == \"Virginica\":\n",
    "                        good += 1\n",
    "                else:\n",
    "                    if row[\"sepal.length\"] <= 6.95:\n",
    "                        if row[-1] == \"Versicolor\":\n",
    "                            good += 1\n",
    "                    else:\n",
    "                        if row[-1] == \"Virginica\":\n",
    "                            good += 1\n",
    "        else:\n",
    "            if row[\"petal.length\"]  <= 4.85:\n",
    "                if row[\"sepal.length\"] <= 5.95:\n",
    "                    if row[-1] == \"Versicolor\":\n",
    "                        good += 1\n",
    "                else:\n",
    "                    if row[-1] == \"Virginica\":\n",
    "                        good += 1\n",
    "            else:\n",
    "                if row[-1] == \"Virginica\":\n",
    "                    good += 1"
   ]
  },
  {
   "cell_type": "code",
   "execution_count": 47,
   "metadata": {},
   "outputs": [
    {
     "data": {
      "text/plain": [
       "150"
      ]
     },
     "execution_count": 47,
     "metadata": {},
     "output_type": "execute_result"
    }
   ],
   "source": [
    "good"
   ]
  },
  {
   "cell_type": "code",
   "execution_count": null,
   "metadata": {},
   "outputs": [],
   "source": []
  },
  {
   "cell_type": "code",
   "execution_count": null,
   "metadata": {},
   "outputs": [],
   "source": []
  }
 ],
 "metadata": {
  "kernelspec": {
   "display_name": "Python 3",
   "language": "python",
   "name": "python3"
  },
  "language_info": {
   "codemirror_mode": {
    "name": "ipython",
    "version": 3
   },
   "file_extension": ".py",
   "mimetype": "text/x-python",
   "name": "python",
   "nbconvert_exporter": "python",
   "pygments_lexer": "ipython3",
   "version": "3.7.0"
  }
 },
 "nbformat": 4,
 "nbformat_minor": 2
}
